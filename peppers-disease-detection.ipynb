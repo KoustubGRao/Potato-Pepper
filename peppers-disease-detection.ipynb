{
 "cells": [
  {
   "cell_type": "code",
   "execution_count": 1,
   "id": "3bae3499",
   "metadata": {
    "_cell_guid": "b1076dfc-b9ad-4769-8c92-a6c4dae69d19",
    "_uuid": "8f2839f25d086af736a60e9eeb907d3b93b6e0e5",
    "execution": {
     "iopub.execute_input": "2025-05-06T10:57:22.800196Z",
     "iopub.status.busy": "2025-05-06T10:57:22.799807Z",
     "iopub.status.idle": "2025-05-06T10:57:43.957741Z",
     "shell.execute_reply": "2025-05-06T10:57:43.956679Z"
    },
    "papermill": {
     "duration": 21.166732,
     "end_time": "2025-05-06T10:57:43.959951",
     "exception": false,
     "start_time": "2025-05-06T10:57:22.793219",
     "status": "completed"
    },
    "tags": []
   },
   "outputs": [
    {
     "name": "stderr",
     "output_type": "stream",
     "text": [
      "2025-05-06 10:57:24.926370: E external/local_xla/xla/stream_executor/cuda/cuda_fft.cc:477] Unable to register cuFFT factory: Attempting to register factory for plugin cuFFT when one has already been registered\n",
      "WARNING: All log messages before absl::InitializeLog() is called are written to STDERR\n",
      "E0000 00:00:1746529045.223176      13 cuda_dnn.cc:8310] Unable to register cuDNN factory: Attempting to register factory for plugin cuDNN when one has already been registered\n",
      "E0000 00:00:1746529045.307360      13 cuda_blas.cc:1418] Unable to register cuBLAS factory: Attempting to register factory for plugin cuBLAS when one has already been registered\n"
     ]
    }
   ],
   "source": [
    "import tensorflow as tf\n",
    "from tensorflow.keras import models, layers\n",
    "import matplotlib.pyplot as plt"
   ]
  },
  {
   "cell_type": "code",
   "execution_count": 2,
   "id": "a00a94c3",
   "metadata": {
    "execution": {
     "iopub.execute_input": "2025-05-06T10:57:43.971867Z",
     "iopub.status.busy": "2025-05-06T10:57:43.970094Z",
     "iopub.status.idle": "2025-05-06T10:57:43.976446Z",
     "shell.execute_reply": "2025-05-06T10:57:43.975151Z"
    },
    "papermill": {
     "duration": 0.013393,
     "end_time": "2025-05-06T10:57:43.978156",
     "exception": false,
     "start_time": "2025-05-06T10:57:43.964763",
     "status": "completed"
    },
    "tags": []
   },
   "outputs": [],
   "source": [
    "BATCH_SIZE = 32\n",
    "IMAGE_SIZE = 256\n",
    "CHANNELS=3\n",
    "EPOCHS=15"
   ]
  },
  {
   "cell_type": "code",
   "execution_count": 3,
   "id": "d832ccf6",
   "metadata": {
    "execution": {
     "iopub.execute_input": "2025-05-06T10:57:43.988643Z",
     "iopub.status.busy": "2025-05-06T10:57:43.988306Z",
     "iopub.status.idle": "2025-05-06T10:57:43.999454Z",
     "shell.execute_reply": "2025-05-06T10:57:43.998163Z"
    },
    "papermill": {
     "duration": 0.01884,
     "end_time": "2025-05-06T10:57:44.001486",
     "exception": false,
     "start_time": "2025-05-06T10:57:43.982646",
     "status": "completed"
    },
    "tags": []
   },
   "outputs": [
    {
     "name": "stdout",
     "output_type": "stream",
     "text": [
      "Subfolders in dataset:\n",
      "['PlantVillage']\n"
     ]
    }
   ],
   "source": [
    "import os\n",
    "import numpy as np\n",
    "base_dir = \"/kaggle/input/plant-village\"\n",
    "print(\"Subfolders in dataset:\")\n",
    "print(os.listdir(base_dir))"
   ]
  },
  {
   "cell_type": "code",
   "execution_count": 4,
   "id": "c99b1fe0",
   "metadata": {
    "execution": {
     "iopub.execute_input": "2025-05-06T10:57:44.011586Z",
     "iopub.status.busy": "2025-05-06T10:57:44.011230Z",
     "iopub.status.idle": "2025-05-06T10:57:44.016218Z",
     "shell.execute_reply": "2025-05-06T10:57:44.014977Z"
    },
    "papermill": {
     "duration": 0.011955,
     "end_time": "2025-05-06T10:57:44.017838",
     "exception": false,
     "start_time": "2025-05-06T10:57:44.005883",
     "status": "completed"
    },
    "tags": []
   },
   "outputs": [],
   "source": [
    "# checking file position for only tomato files\n",
    "# import os\n",
    "\n",
    "# base_dir = \"/kaggle/input/plant-village\"\n",
    "\n",
    "# # Show what's in the base directory\n",
    "# print(\"Base directory contents:\")\n",
    "# print(os.listdir(base_dir))\n",
    "\n",
    "# # Drill into one folder (e.g., check if it's organized by class)\n",
    "# for entry in os.listdir(base_dir):\n",
    "#     entry_path = os.path.join(base_dir, entry)\n",
    "#     if os.path.isdir(entry_path):\n",
    "#         print(f\"\\nContents of '{entry}':\")\n",
    "#         print(os.listdir(entry_path)[:5])  # Show first 5 files or folders\n"
   ]
  },
  {
   "cell_type": "code",
   "execution_count": 5,
   "id": "d95e405b",
   "metadata": {
    "execution": {
     "iopub.execute_input": "2025-05-06T10:57:44.028189Z",
     "iopub.status.busy": "2025-05-06T10:57:44.027809Z",
     "iopub.status.idle": "2025-05-06T10:57:49.024183Z",
     "shell.execute_reply": "2025-05-06T10:57:49.022821Z"
    },
    "papermill": {
     "duration": 5.004126,
     "end_time": "2025-05-06T10:57:49.026279",
     "exception": false,
     "start_time": "2025-05-06T10:57:44.022153",
     "status": "completed"
    },
    "tags": []
   },
   "outputs": [
    {
     "name": "stdout",
     "output_type": "stream",
     "text": [
      "pepper Classes: ['Pepper__bell___Bacterial_spot', 'Pepper__bell___healthy']\n",
      "Found 2475 files belonging to 2 classes.\n"
     ]
    },
    {
     "name": "stderr",
     "output_type": "stream",
     "text": [
      "2025-05-06 10:57:48.919587: E external/local_xla/xla/stream_executor/cuda/cuda_driver.cc:152] failed call to cuInit: INTERNAL: CUDA error: Failed call to cuInit: UNKNOWN ERROR (303)\n"
     ]
    }
   ],
   "source": [
    "#extracting tomato files as dataset\n",
    "import os\n",
    "\n",
    "DATA_DIR = \"/kaggle/input/plant-village/PlantVillage\"\n",
    "\n",
    "# List all subdirectories in the dataset directory\n",
    "all_classes = [d for d in os.listdir(DATA_DIR) if os.path.isdir(os.path.join(DATA_DIR, d))]\n",
    "\n",
    "# Filter classes that start with 'Tomato_'\n",
    "pepper_classes = sorted([cls for cls in all_classes if cls.startswith(\"Pepper_\")])\n",
    "\n",
    "print(\"pepper Classes:\", pepper_classes)\n",
    "\n",
    "# Load dataset with only Tomato classes\n",
    "dataset = tf.keras.utils.image_dataset_from_directory(\n",
    "    DATA_DIR,\n",
    "    labels='inferred',\n",
    "    label_mode='int',\n",
    "    class_names=pepper_classes,\n",
    "    seed=123,\n",
    "    shuffle=True,\n",
    "    image_size=(IMAGE_SIZE, IMAGE_SIZE),\n",
    "    batch_size=BATCH_SIZE\n",
    ")\n"
   ]
  },
  {
   "cell_type": "code",
   "execution_count": 6,
   "id": "260779cb",
   "metadata": {
    "execution": {
     "iopub.execute_input": "2025-05-06T10:57:49.037270Z",
     "iopub.status.busy": "2025-05-06T10:57:49.036876Z",
     "iopub.status.idle": "2025-05-06T10:57:49.044920Z",
     "shell.execute_reply": "2025-05-06T10:57:49.043826Z"
    },
    "papermill": {
     "duration": 0.015861,
     "end_time": "2025-05-06T10:57:49.046713",
     "exception": false,
     "start_time": "2025-05-06T10:57:49.030852",
     "status": "completed"
    },
    "tags": []
   },
   "outputs": [
    {
     "data": {
      "text/plain": [
       "['Pepper__bell___Bacterial_spot', 'Pepper__bell___healthy']"
      ]
     },
     "execution_count": 6,
     "metadata": {},
     "output_type": "execute_result"
    }
   ],
   "source": [
    "class_names = dataset.class_names\n",
    "class_names"
   ]
  },
  {
   "cell_type": "code",
   "execution_count": 7,
   "id": "60acb8aa",
   "metadata": {
    "execution": {
     "iopub.execute_input": "2025-05-06T10:57:49.057040Z",
     "iopub.status.busy": "2025-05-06T10:57:49.056728Z",
     "iopub.status.idle": "2025-05-06T10:57:49.064381Z",
     "shell.execute_reply": "2025-05-06T10:57:49.063267Z"
    },
    "papermill": {
     "duration": 0.014953,
     "end_time": "2025-05-06T10:57:49.066265",
     "exception": false,
     "start_time": "2025-05-06T10:57:49.051312",
     "status": "completed"
    },
    "tags": []
   },
   "outputs": [],
   "source": [
    "def get_dataset_partitions_tf(ds, train_split=0.8, val_split=0.1, test_split=0.1, shuffle=True, shuffle_size=10000):\n",
    "    assert (train_split + test_split + val_split) == 1\n",
    "    \n",
    "    ds_size = len(ds)\n",
    "    \n",
    "    if shuffle:\n",
    "        ds = ds.shuffle(shuffle_size, seed=12)\n",
    "    \n",
    "    train_size = int(train_split * ds_size)\n",
    "    val_size = int(val_split * ds_size)\n",
    "    \n",
    "    train_ds = ds.take(train_size)    \n",
    "    val_ds = ds.skip(train_size).take(val_size)\n",
    "    test_ds = ds.skip(train_size).skip(val_size)\n",
    "    \n",
    "    return train_ds, val_ds, test_ds"
   ]
  },
  {
   "cell_type": "code",
   "execution_count": 8,
   "id": "8e7f384f",
   "metadata": {
    "execution": {
     "iopub.execute_input": "2025-05-06T10:57:49.077622Z",
     "iopub.status.busy": "2025-05-06T10:57:49.077293Z",
     "iopub.status.idle": "2025-05-06T10:57:49.100286Z",
     "shell.execute_reply": "2025-05-06T10:57:49.099098Z"
    },
    "papermill": {
     "duration": 0.03049,
     "end_time": "2025-05-06T10:57:49.101980",
     "exception": false,
     "start_time": "2025-05-06T10:57:49.071490",
     "status": "completed"
    },
    "tags": []
   },
   "outputs": [
    {
     "name": "stdout",
     "output_type": "stream",
     "text": [
      "[62, 9, 7]\n"
     ]
    }
   ],
   "source": [
    "train_ds, val_ds, test_ds = get_dataset_partitions_tf(dataset)\n",
    "check = [len(train_ds), len(test_ds), len(val_ds)]\n",
    "print(check)\n"
   ]
  },
  {
   "cell_type": "code",
   "execution_count": 9,
   "id": "ba4286a4",
   "metadata": {
    "execution": {
     "iopub.execute_input": "2025-05-06T10:57:49.112354Z",
     "iopub.status.busy": "2025-05-06T10:57:49.111970Z",
     "iopub.status.idle": "2025-05-06T10:57:49.134464Z",
     "shell.execute_reply": "2025-05-06T10:57:49.133469Z"
    },
    "papermill": {
     "duration": 0.029635,
     "end_time": "2025-05-06T10:57:49.136194",
     "exception": false,
     "start_time": "2025-05-06T10:57:49.106559",
     "status": "completed"
    },
    "tags": []
   },
   "outputs": [],
   "source": [
    "# Prefetch and catch so that when training one set of data we cache i.e load up the next set simultaneously saving time\n",
    "train_ds = train_ds.cache().shuffle(1000).prefetch(buffer_size=tf.data.AUTOTUNE)\n",
    "val_ds = val_ds.cache().shuffle(1000).prefetch(buffer_size=tf.data.AUTOTUNE)\n",
    "test_ds = test_ds.cache().shuffle(1000).prefetch(buffer_size=tf.data.AUTOTUNE)"
   ]
  },
  {
   "cell_type": "code",
   "execution_count": 10,
   "id": "9a399bb0",
   "metadata": {
    "execution": {
     "iopub.execute_input": "2025-05-06T10:57:49.146616Z",
     "iopub.status.busy": "2025-05-06T10:57:49.146296Z",
     "iopub.status.idle": "2025-05-06T10:57:49.153873Z",
     "shell.execute_reply": "2025-05-06T10:57:49.152894Z"
    },
    "papermill": {
     "duration": 0.01471,
     "end_time": "2025-05-06T10:57:49.155524",
     "exception": false,
     "start_time": "2025-05-06T10:57:49.140814",
     "status": "completed"
    },
    "tags": []
   },
   "outputs": [],
   "source": [
    "# Pre-processing data : resize and rescale\n",
    "from tensorflow.keras import layers\n",
    "\n",
    "resize_and_rescale = tf.keras.Sequential([\n",
    "    layers.Resizing(IMAGE_SIZE, IMAGE_SIZE),\n",
    "    layers.Rescaling(1./255)\n",
    "])\n"
   ]
  },
  {
   "cell_type": "code",
   "execution_count": 11,
   "id": "f8786b51",
   "metadata": {
    "execution": {
     "iopub.execute_input": "2025-05-06T10:57:49.165783Z",
     "iopub.status.busy": "2025-05-06T10:57:49.165448Z",
     "iopub.status.idle": "2025-05-06T10:57:49.178627Z",
     "shell.execute_reply": "2025-05-06T10:57:49.177469Z"
    },
    "papermill": {
     "duration": 0.020384,
     "end_time": "2025-05-06T10:57:49.180498",
     "exception": false,
     "start_time": "2025-05-06T10:57:49.160114",
     "status": "completed"
    },
    "tags": []
   },
   "outputs": [],
   "source": [
    "# Data Augmentation layer : here we rotate and linearly transform existing data to create new samples. \n",
    "# Useful when dataset is small and gives better feature extraction\n",
    "data_augmentation = tf.keras.Sequential([\n",
    "  layers.RandomFlip(\"horizontal_and_vertical\"),\n",
    "  layers.RandomRotation(0.2),\n",
    "])"
   ]
  },
  {
   "cell_type": "code",
   "execution_count": 12,
   "id": "21d86f0f",
   "metadata": {
    "execution": {
     "iopub.execute_input": "2025-05-06T10:57:49.192479Z",
     "iopub.status.busy": "2025-05-06T10:57:49.192143Z",
     "iopub.status.idle": "2025-05-06T10:57:49.511818Z",
     "shell.execute_reply": "2025-05-06T10:57:49.510586Z"
    },
    "papermill": {
     "duration": 0.328364,
     "end_time": "2025-05-06T10:57:49.513547",
     "exception": true,
     "start_time": "2025-05-06T10:57:49.185183",
     "status": "failed"
    },
    "tags": []
   },
   "outputs": [
    {
     "ename": "NameError",
     "evalue": "name 'n_classes' is not defined",
     "output_type": "error",
     "traceback": [
      "\u001b[0;31m---------------------------------------------------------------------------\u001b[0m",
      "\u001b[0;31mNameError\u001b[0m                                 Traceback (most recent call last)",
      "\u001b[0;32m/tmp/ipykernel_13/807549755.py\u001b[0m in \u001b[0;36m<cell line: 0>\u001b[0;34m()\u001b[0m\n\u001b[1;32m     19\u001b[0m     \u001b[0mlayers\u001b[0m\u001b[0;34m.\u001b[0m\u001b[0mFlatten\u001b[0m\u001b[0;34m(\u001b[0m\u001b[0;34m)\u001b[0m\u001b[0;34m,\u001b[0m\u001b[0;34m\u001b[0m\u001b[0;34m\u001b[0m\u001b[0m\n\u001b[1;32m     20\u001b[0m     \u001b[0mlayers\u001b[0m\u001b[0;34m.\u001b[0m\u001b[0mDense\u001b[0m\u001b[0;34m(\u001b[0m\u001b[0;36m64\u001b[0m\u001b[0;34m,\u001b[0m \u001b[0mactivation\u001b[0m\u001b[0;34m=\u001b[0m\u001b[0;34m'relu'\u001b[0m\u001b[0;34m)\u001b[0m\u001b[0;34m,\u001b[0m\u001b[0;34m\u001b[0m\u001b[0;34m\u001b[0m\u001b[0m\n\u001b[0;32m---> 21\u001b[0;31m     \u001b[0mlayers\u001b[0m\u001b[0;34m.\u001b[0m\u001b[0mDense\u001b[0m\u001b[0;34m(\u001b[0m\u001b[0mn_classes\u001b[0m\u001b[0;34m,\u001b[0m \u001b[0mactivation\u001b[0m\u001b[0;34m=\u001b[0m\u001b[0;34m'softmax'\u001b[0m\u001b[0;34m)\u001b[0m\u001b[0;34m,\u001b[0m\u001b[0;34m\u001b[0m\u001b[0;34m\u001b[0m\u001b[0m\n\u001b[0m\u001b[1;32m     22\u001b[0m ])\n\u001b[1;32m     23\u001b[0m \u001b[0;34m\u001b[0m\u001b[0m\n",
      "\u001b[0;31mNameError\u001b[0m: name 'n_classes' is not defined"
     ]
    }
   ],
   "source": [
    "input_shape = (IMAGE_SIZE, IMAGE_SIZE, CHANNELS)\n",
    "\n",
    "# Build the model\n",
    "model = models.Sequential([\n",
    "    layers.Input(shape=input_shape),\n",
    "    resize_and_rescale,\n",
    "    layers.Conv2D(32, kernel_size=(3,3), activation='relu'),\n",
    "    layers.MaxPooling2D((2, 2)),\n",
    "    layers.Conv2D(64, kernel_size=(3,3), activation='relu'),\n",
    "    layers.MaxPooling2D((2, 2)),\n",
    "    layers.Conv2D(64, kernel_size=(3,3), activation='relu'),\n",
    "    layers.MaxPooling2D((2, 2)),\n",
    "    layers.Conv2D(64, kernel_size=(3,3), activation='relu'),\n",
    "    layers.MaxPooling2D((2, 2)),\n",
    "    layers.Conv2D(64, kernel_size=(3,3), activation='relu'),\n",
    "    layers.MaxPooling2D((2, 2)),\n",
    "    layers.Conv2D(64, kernel_size=(3,3), activation='relu'),\n",
    "    layers.MaxPooling2D((2, 2)),\n",
    "    layers.Flatten(),\n",
    "    layers.Dense(64, activation='relu'),\n",
    "    layers.Dense(n_classes, activation='softmax'),\n",
    "])\n",
    "\n",
    "model.build()"
   ]
  },
  {
   "cell_type": "code",
   "execution_count": null,
   "id": "ef214467",
   "metadata": {
    "execution": {
     "iopub.execute_input": "2025-05-06T10:06:32.856740Z",
     "iopub.status.busy": "2025-05-06T10:06:32.856501Z",
     "iopub.status.idle": "2025-05-06T10:06:32.886106Z",
     "shell.execute_reply": "2025-05-06T10:06:32.885048Z",
     "shell.execute_reply.started": "2025-05-06T10:06:32.856723Z"
    },
    "papermill": {
     "duration": null,
     "end_time": null,
     "exception": null,
     "start_time": null,
     "status": "pending"
    },
    "tags": []
   },
   "outputs": [],
   "source": [
    "model.summary()"
   ]
  },
  {
   "cell_type": "code",
   "execution_count": null,
   "id": "f7f4d179",
   "metadata": {
    "execution": {
     "iopub.execute_input": "2025-05-06T10:06:32.887322Z",
     "iopub.status.busy": "2025-05-06T10:06:32.887023Z",
     "iopub.status.idle": "2025-05-06T10:06:32.900986Z",
     "shell.execute_reply": "2025-05-06T10:06:32.899778Z",
     "shell.execute_reply.started": "2025-05-06T10:06:32.887304Z"
    },
    "papermill": {
     "duration": null,
     "end_time": null,
     "exception": null,
     "start_time": null,
     "status": "pending"
    },
    "tags": []
   },
   "outputs": [],
   "source": [
    "model.compile(\n",
    "    optimizer='adam',\n",
    "    loss=tf.keras.losses.SparseCategoricalCrossentropy(from_logits=False),\n",
    "    metrics=['accuracy']\n",
    ")"
   ]
  },
  {
   "cell_type": "code",
   "execution_count": null,
   "id": "3c2f08c5",
   "metadata": {
    "execution": {
     "iopub.execute_input": "2025-05-06T10:06:32.902520Z",
     "iopub.status.busy": "2025-05-06T10:06:32.902221Z",
     "iopub.status.idle": "2025-05-06T10:42:44.098299Z",
     "shell.execute_reply": "2025-05-06T10:42:44.097183Z",
     "shell.execute_reply.started": "2025-05-06T10:06:32.902497Z"
    },
    "papermill": {
     "duration": null,
     "end_time": null,
     "exception": null,
     "start_time": null,
     "status": "pending"
    },
    "tags": []
   },
   "outputs": [],
   "source": [
    "history = model.fit(\n",
    "    train_ds,\n",
    "    batch_size=BATCH_SIZE,\n",
    "    validation_data=val_ds,\n",
    "    verbose=1,\n",
    "    epochs=15,\n",
    ")"
   ]
  },
  {
   "cell_type": "code",
   "execution_count": null,
   "id": "459e45e3",
   "metadata": {
    "execution": {
     "iopub.execute_input": "2025-05-06T10:45:33.799462Z",
     "iopub.status.busy": "2025-05-06T10:45:33.799047Z",
     "iopub.status.idle": "2025-05-06T10:45:44.050474Z",
     "shell.execute_reply": "2025-05-06T10:45:44.049424Z",
     "shell.execute_reply.started": "2025-05-06T10:45:33.799436Z"
    },
    "papermill": {
     "duration": null,
     "end_time": null,
     "exception": null,
     "start_time": null,
     "status": "pending"
    },
    "tags": []
   },
   "outputs": [],
   "source": [
    "model.evaluate(test_ds)"
   ]
  },
  {
   "cell_type": "code",
   "execution_count": null,
   "id": "c722c9e1",
   "metadata": {
    "execution": {
     "iopub.execute_input": "2025-05-06T10:45:48.390074Z",
     "iopub.status.busy": "2025-05-06T10:45:48.389743Z",
     "iopub.status.idle": "2025-05-06T10:45:48.395573Z",
     "shell.execute_reply": "2025-05-06T10:45:48.394632Z",
     "shell.execute_reply.started": "2025-05-06T10:45:48.390051Z"
    },
    "papermill": {
     "duration": null,
     "end_time": null,
     "exception": null,
     "start_time": null,
     "status": "pending"
    },
    "tags": []
   },
   "outputs": [],
   "source": [
    "acc = history.history['accuracy']\n",
    "val_acc = history.history['val_accuracy']\n",
    "\n",
    "loss = history.history['loss']\n",
    "val_loss = history.history['val_loss']"
   ]
  },
  {
   "cell_type": "code",
   "execution_count": null,
   "id": "67779d97",
   "metadata": {
    "execution": {
     "iopub.execute_input": "2025-05-06T10:45:58.319327Z",
     "iopub.status.busy": "2025-05-06T10:45:58.319019Z",
     "iopub.status.idle": "2025-05-06T10:45:58.782418Z",
     "shell.execute_reply": "2025-05-06T10:45:58.781353Z",
     "shell.execute_reply.started": "2025-05-06T10:45:58.319304Z"
    },
    "papermill": {
     "duration": null,
     "end_time": null,
     "exception": null,
     "start_time": null,
     "status": "pending"
    },
    "tags": []
   },
   "outputs": [],
   "source": [
    "plt.figure(figsize=(8, 8))\n",
    "plt.subplot(1, 2, 1)\n",
    "plt.plot(range(EPOCHS), acc, label='Training Accuracy')\n",
    "plt.plot(range(EPOCHS), val_acc, label='Validation Accuracy')\n",
    "plt.legend(loc='lower right')\n",
    "plt.title('Training and Validation Accuracy')\n",
    "\n",
    "plt.subplot(1, 2, 2)\n",
    "plt.plot(range(EPOCHS), loss, label='Training Loss')\n",
    "plt.plot(range(EPOCHS), val_loss, label='Validation Loss')\n",
    "plt.legend(loc='upper right')\n",
    "plt.title('Training and Validation Loss')\n",
    "plt.show()"
   ]
  },
  {
   "cell_type": "code",
   "execution_count": null,
   "id": "ba8e8ec8",
   "metadata": {
    "execution": {
     "iopub.execute_input": "2025-05-06T10:46:05.556385Z",
     "iopub.status.busy": "2025-05-06T10:46:05.555456Z",
     "iopub.status.idle": "2025-05-06T10:46:05.561633Z",
     "shell.execute_reply": "2025-05-06T10:46:05.560687Z",
     "shell.execute_reply.started": "2025-05-06T10:46:05.556357Z"
    },
    "papermill": {
     "duration": null,
     "end_time": null,
     "exception": null,
     "start_time": null,
     "status": "pending"
    },
    "tags": []
   },
   "outputs": [],
   "source": [
    "def predict(model, img):\n",
    "    img_array = tf.keras.preprocessing.image.img_to_array(images[i].numpy())\n",
    "    img_array = tf.expand_dims(img_array, 0)\n",
    "\n",
    "    predictions = model.predict(img_array)\n",
    "\n",
    "    predicted_class = class_names[np.argmax(predictions[0])]\n",
    "    confidence = round(100 * (np.max(predictions[0])), 2)\n",
    "    return predicted_class, confidence"
   ]
  },
  {
   "cell_type": "code",
   "execution_count": null,
   "id": "13298235",
   "metadata": {
    "execution": {
     "iopub.execute_input": "2025-05-06T10:47:09.075893Z",
     "iopub.status.busy": "2025-05-06T10:47:09.075539Z",
     "iopub.status.idle": "2025-05-06T10:47:11.899389Z",
     "shell.execute_reply": "2025-05-06T10:47:11.898229Z",
     "shell.execute_reply.started": "2025-05-06T10:47:09.075868Z"
    },
    "papermill": {
     "duration": null,
     "end_time": null,
     "exception": null,
     "start_time": null,
     "status": "pending"
    },
    "tags": []
   },
   "outputs": [],
   "source": [
    "plt.figure(figsize=(15, 15))\n",
    "for images, labels in test_ds.take(1):\n",
    "    for i in range(9):\n",
    "        ax = plt.subplot(3, 3, i + 1)\n",
    "        plt.imshow(images[i].numpy().astype(\"uint8\"))\n",
    "        \n",
    "        predicted_class, confidence = predict(model, images[i].numpy())\n",
    "        actual_class = class_names[labels[i]] \n",
    "        \n",
    "        plt.title(f\"Actual: {actual_class},\\n Predicted: {predicted_class}.\\n Confidence: {confidence}%\")\n",
    "        \n",
    "        plt.axis(\"off\")"
   ]
  },
  {
   "cell_type": "code",
   "execution_count": null,
   "id": "31437fd7",
   "metadata": {
    "execution": {
     "iopub.execute_input": "2025-05-06T10:49:43.726226Z",
     "iopub.status.busy": "2025-05-06T10:49:43.725936Z",
     "iopub.status.idle": "2025-05-06T10:49:43.865321Z",
     "shell.execute_reply": "2025-05-06T10:49:43.864377Z",
     "shell.execute_reply.started": "2025-05-06T10:49:43.726205Z"
    },
    "papermill": {
     "duration": null,
     "end_time": null,
     "exception": null,
     "start_time": null,
     "status": "pending"
    },
    "tags": []
   },
   "outputs": [],
   "source": [
    "import os\n",
    "\n",
    "# Directory to save models\n",
    "save_dir = \"./models\"\n",
    "os.makedirs(save_dir, exist_ok=True)\n",
    "\n",
    "# Auto-increment model version with .keras extension\n",
    "existing_versions = [\n",
    "    int(f.replace(\"peppers\", \"\").replace(\".keras\", \"\"))\n",
    "    for f in os.listdir(save_dir)\n",
    "    if f.startswith(\"peppers\") and f.endswith(\".keras\") and f.replace(\"peppers\", \"\").replace(\".keras\", \"\").isdigit()\n",
    "]\n",
    "\n",
    "next_version = max(existing_versions + [0]) + 1\n",
    "model_version = f\"peppers{next_version}.keras\"\n",
    "\n",
    "# Save the model\n",
    "model.save(os.path.join(save_dir, model_version))  # Saved as .keras file\n",
    "model.save(\"peppers.h5\")  # Optional: save as .h5 as well\n"
   ]
  }
 ],
 "metadata": {
  "kaggle": {
   "accelerator": "none",
   "dataSources": [
    {
     "datasetId": 414960,
     "sourceId": 793497,
     "sourceType": "datasetVersion"
    }
   ],
   "dockerImageVersionId": 31012,
   "isGpuEnabled": false,
   "isInternetEnabled": true,
   "language": "python",
   "sourceType": "notebook"
  },
  "kernelspec": {
   "display_name": "Python 3",
   "language": "python",
   "name": "python3"
  },
  "language_info": {
   "codemirror_mode": {
    "name": "ipython",
    "version": 3
   },
   "file_extension": ".py",
   "mimetype": "text/x-python",
   "name": "python",
   "nbconvert_exporter": "python",
   "pygments_lexer": "ipython3",
   "version": "3.11.11"
  },
  "papermill": {
   "default_parameters": {},
   "duration": 35.240517,
   "end_time": "2025-05-06T10:57:52.721713",
   "environment_variables": {},
   "exception": true,
   "input_path": "__notebook__.ipynb",
   "output_path": "__notebook__.ipynb",
   "parameters": {},
   "start_time": "2025-05-06T10:57:17.481196",
   "version": "2.6.0"
  }
 },
 "nbformat": 4,
 "nbformat_minor": 5
}
